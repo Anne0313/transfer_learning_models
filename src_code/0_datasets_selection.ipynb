{
 "cells": [
  {
   "cell_type": "code",
   "execution_count": 46,
   "id": "86b84c8a",
   "metadata": {
    "ExecuteTime": {
     "end_time": "2024-04-12T01:52:34.852955Z",
     "start_time": "2024-04-12T01:52:34.795946Z"
    }
   },
   "outputs": [],
   "source": [
    "%matplotlib inline\n",
    "%config InlineBackend.figure_format = 'svg'\n",
    "import numpy as np\n",
    "import pandas as pd\n",
    "from datetime import datetime\n",
    "import warnings\n",
    "warnings.filterwarnings('ignore')"
   ]
  },
  {
   "cell_type": "code",
   "execution_count": 20,
   "id": "4b3ed02b",
   "metadata": {
    "ExecuteTime": {
     "end_time": "2024-04-12T01:21:10.975599Z",
     "start_time": "2024-04-12T01:21:08.830235Z"
    }
   },
   "outputs": [],
   "source": [
    "data = pd.read_csv(\"../0_datasets/Paired leaf traits and leaf spectra dataset.csv\")\n",
    "data['Instruments'].fillna('', inplace=True)\n",
    "# data = data[data[\"Instruments\"].str.contains(\"ASD\")]"
   ]
  },
  {
   "attachments": {},
   "cell_type": "markdown",
   "id": "a1ae8c22",
   "metadata": {},
   "source": [
    "### Chla+b"
   ]
  },
  {
   "cell_type": "code",
   "execution_count": 25,
   "id": "c962108a",
   "metadata": {
    "ExecuteTime": {
     "end_time": "2024-04-12T01:24:06.755818Z",
     "start_time": "2024-04-12T01:24:06.732801Z"
    }
   },
   "outputs": [
    {
     "name": "stdout",
     "output_type": "stream",
     "text": [
      "ASD FieldSpec 4                2949\n",
      "ASD FieldSpec 3                1965\n",
      "SVC HR-1024i                    560\n",
      "PSR 3500+                       402\n",
      "PSR+                            368\n",
      "Lambda-19 Spectrophotometer     320\n",
      "ASD FieldSpec                   276\n",
      "Name: Instruments, dtype: int64\n"
     ]
    }
   ],
   "source": [
    "df = data[data[\"Chla+b\"]>0]\n",
    "print(df[\"Instruments\"].value_counts())\n",
    "df = df[df[\"Instruments\"].str.contains(\"ASD\")]"
   ]
  },
  {
   "cell_type": "code",
   "execution_count": 35,
   "id": "11c5f656",
   "metadata": {
    "ExecuteTime": {
     "end_time": "2024-04-12T01:32:53.091367Z",
     "start_time": "2024-04-12T01:32:52.511052Z"
    },
    "scrolled": false
   },
   "outputs": [
    {
     "name": "stdout",
     "output_type": "stream",
     "text": [
      "Site#2 276\n",
      "Site#3 397\n",
      "Site#4 211\n",
      "Site#67 1210\n",
      "Site#83 1131\n",
      "Site#5 831\n",
      "Site#89 224\n",
      "Site#104 734\n"
     ]
    }
   ],
   "source": [
    "### sites dataset extraction\n",
    "sample_size = 200\n",
    "var_start = True\n",
    "for site in df[\"Site ID\"].unique():\n",
    "    temp = df[df[\"Site ID\"] == site]\n",
    "    if len(temp)>sample_size:\n",
    "        print(site, len(temp))\n",
    "        df_sample = temp.sample(n=sample_size, replace=True)\n",
    "        if var_start:\n",
    "            df_final = df_sample\n",
    "            var_start = False\n",
    "        else:\n",
    "            df_final= pd.concat([df_final,df_sample],axis = 0)\n",
    "df_final['ID'] = np.arange(len(df_final))\n",
    "df_final.reset_index(drop = True,inplace = True)\n",
    "df_final.to_csv('../0_datasets/Chla+b_dataset_sites.csv', index = False)"
   ]
  },
  {
   "cell_type": "code",
   "execution_count": 43,
   "id": "9a2580be",
   "metadata": {
    "ExecuteTime": {
     "end_time": "2024-04-12T01:43:46.347404Z",
     "start_time": "2024-04-12T01:43:45.380544Z"
    }
   },
   "outputs": [
    {
     "name": "stdout",
     "output_type": "stream",
     "text": [
      "Deciduous broadleaf forests 1078\n",
      "Grasslands 1629\n",
      "Croplands 2341\n"
     ]
    }
   ],
   "source": [
    "### PFT dataset extraction\n",
    "sample_size = 1000\n",
    "var_start = True\n",
    "for pft in df[\"PFT\"].unique():\n",
    "    temp = df[df[\"PFT\"] == pft]\n",
    "    if len(temp)>sample_size:\n",
    "        print(pft,len(temp))\n",
    "        df_sample = temp.sample(n=sample_size, replace=True)\n",
    "        if var_start:\n",
    "            df_final = df_sample\n",
    "            var_start = False\n",
    "        else:\n",
    "            df_final= pd.concat([df_final,df_sample],axis = 0)\n",
    "df_final['ID'] = np.arange(len(df_final))\n",
    "df_final.reset_index(drop = True,inplace = True)\n",
    "df_final.to_csv('../0_datasets/Chla+b_dataset_PFT.csv', index = False)"
   ]
  },
  {
   "cell_type": "code",
   "execution_count": 56,
   "id": "09a0fe84",
   "metadata": {
    "ExecuteTime": {
     "end_time": "2024-04-12T02:02:35.720351Z",
     "start_time": "2024-04-12T02:02:35.489478Z"
    }
   },
   "outputs": [],
   "source": [
    "### temporal dataset extraction\n",
    "seasonal_df = df[(df[\"Dataset ID\"]==\"Dataset#3\")|(df[\"Dataset ID\"]==\"Dataset#4\")|(df[\"Dataset ID\"]==\"Dataset#8\")]\n",
    "seasonal_df[\"Sample date\"] = seasonal_df[\"Sample date\"].astype(int).astype(str)\n",
    "seasonal_df[\"DOY\"] = [datetime.strptime(x, \"%Y%m%d\").timetuple().tm_yday for x in seasonal_df[\"Sample date\"].tolist()]\n",
    "\n",
    "seasonal_df.loc[(seasonal_df['Dataset ID']=='Dataset#3')&((seasonal_df['DOY']<165)|(seasonal_df['DOY']==165)),'season']='early growing season'\n",
    "seasonal_df.loc[(seasonal_df['Dataset ID']=='Dataset#3')&((seasonal_df['DOY']>240)|(seasonal_df['DOY']==240)),'season']='post-peak season'\n",
    "seasonal_df.loc[(seasonal_df['Dataset ID']=='Dataset#3')&(seasonal_df['DOY']>165)&(seasonal_df['DOY']<240),'season']='peak growing season'\n",
    "\n",
    "seasonal_df.loc[(seasonal_df['Dataset ID']=='Dataset#4')&((seasonal_df['DOY']<151)|(seasonal_df['DOY']==151)),'season']='early growing season'\n",
    "seasonal_df.loc[(seasonal_df['Dataset ID']=='Dataset#4')&((seasonal_df['DOY']>243)|(seasonal_df['DOY']==243)),'season']='post-peak season'\n",
    "seasonal_df.loc[(seasonal_df['Dataset ID']=='Dataset#4')&(seasonal_df['DOY']>151)&(seasonal_df['DOY']<243),'season']='peak growing season'\n",
    "\n",
    "seasonal_df.loc[(seasonal_df['Dataset ID']=='Dataset#8')&((seasonal_df['DOY']<175)|(seasonal_df['DOY']==175)),'season']='early growing season'\n",
    "seasonal_df.loc[(seasonal_df['Dataset ID']=='Dataset#8')&((seasonal_df['DOY']>243)|(seasonal_df['DOY']==243)),'season']='post-peak season'\n",
    "seasonal_df.loc[(seasonal_df['Dataset ID']=='Dataset#8')&(seasonal_df['DOY']>175)&(seasonal_df['DOY']<243),'season']='peak growing season'\n",
    "\n",
    "seasonal_df.reset_index(drop = True,inplace = True)\n",
    "seasonal_df['ID'] = np.arange(len(seasonal_df))\n",
    "seasonal_df.to_csv('../0_datasets/Chla+b_dataset_temporal.csv', index = False)"
   ]
  },
  {
   "attachments": {},
   "cell_type": "markdown",
   "id": "f974b4fc",
   "metadata": {
    "ExecuteTime": {
     "end_time": "2023-11-01T19:27:37.418309Z",
     "start_time": "2023-11-01T19:27:37.411206Z"
    }
   },
   "source": [
    "### Ccar"
   ]
  },
  {
   "cell_type": "code",
   "execution_count": 77,
   "id": "1c5caafd",
   "metadata": {
    "ExecuteTime": {
     "end_time": "2024-04-12T02:16:04.229153Z",
     "start_time": "2024-04-12T02:16:02.888489Z"
    }
   },
   "outputs": [
    {
     "name": "stdout",
     "output_type": "stream",
     "text": [
      "ASD FieldSpec 4                1765\n",
      "ASD FieldSpec 3                 911\n",
      "SVC HR-1024i                    560\n",
      "PSR 3500+                       403\n",
      "Lambda-19 Spectrophotometer     320\n",
      "ASD FieldSpec                   274\n",
      "Name: Instruments, dtype: int64\n",
      "Site#2 274\n",
      "Site#3 423\n",
      "Site#4 211\n",
      "Site#83 1131\n",
      "Site#104 734\n",
      "Deciduous broadleaf forests 881\n",
      "Grasslands 798\n",
      "Croplands 1131\n"
     ]
    }
   ],
   "source": [
    "df = data[data[\"Ccar\"]>0]\n",
    "print(df[\"Instruments\"].value_counts())\n",
    "df = df[df[\"Instruments\"].str.contains(\"ASD\")]\n",
    "\n",
    "### sites dataset extraction\n",
    "sample_size = 200\n",
    "var_start = True\n",
    "for site in df[\"Site ID\"].unique():\n",
    "    temp = df[df[\"Site ID\"] == site]\n",
    "    if len(temp)>sample_size:\n",
    "        print(site, len(temp))\n",
    "        df_sample = temp.sample(n=sample_size, replace=True)\n",
    "        if var_start:\n",
    "            df_final = df_sample\n",
    "            var_start = False\n",
    "        else:\n",
    "            df_final= pd.concat([df_final,df_sample],axis = 0)\n",
    "df_final['ID'] = np.arange(len(df_final))\n",
    "df_final.reset_index(drop = True,inplace = True)\n",
    "df_final.to_csv('../0_datasets/Ccar_dataset_sites.csv', index = False)\n",
    "\n",
    "### PFT dataset extraction\n",
    "sample_size = 700\n",
    "var_start = True\n",
    "for pft in df[\"PFT\"].unique():\n",
    "    temp = df[df[\"PFT\"] == pft]\n",
    "    if len(temp)>sample_size:\n",
    "        print(pft,len(temp))\n",
    "        df_sample = temp.sample(n=sample_size, replace=True)\n",
    "        if var_start:\n",
    "            df_final = df_sample\n",
    "            var_start = False\n",
    "        else:\n",
    "            df_final= pd.concat([df_final,df_sample],axis = 0)\n",
    "df_final['ID'] = np.arange(len(df_final))\n",
    "df_final.reset_index(drop = True,inplace = True)\n",
    "df_final.to_csv('../0_datasets/Ccar_dataset_PFT.csv', index = False)\n",
    "\n",
    "### temporal dataset extraction\n",
    "seasonal_df = df[(df[\"Dataset ID\"]==\"Dataset#3\")|(df[\"Dataset ID\"]==\"Dataset#4\")|(df[\"Dataset ID\"]==\"Dataset#8\")]\n",
    "seasonal_df[\"Sample date\"] = seasonal_df[\"Sample date\"].astype(int).astype(str)\n",
    "seasonal_df[\"DOY\"] = [datetime.strptime(x, \"%Y%m%d\").timetuple().tm_yday for x in seasonal_df[\"Sample date\"].tolist()]\n",
    "\n",
    "seasonal_df.loc[(seasonal_df['Dataset ID']=='Dataset#3')&((seasonal_df['DOY']<165)|(seasonal_df['DOY']==165)),'season']='early growing season'\n",
    "seasonal_df.loc[(seasonal_df['Dataset ID']=='Dataset#3')&((seasonal_df['DOY']>240)|(seasonal_df['DOY']==240)),'season']='post-peak season'\n",
    "seasonal_df.loc[(seasonal_df['Dataset ID']=='Dataset#3')&(seasonal_df['DOY']>165)&(seasonal_df['DOY']<240),'season']='peak growing season'\n",
    "\n",
    "seasonal_df.loc[(seasonal_df['Dataset ID']=='Dataset#4')&((seasonal_df['DOY']<151)|(seasonal_df['DOY']==151)),'season']='early growing season'\n",
    "seasonal_df.loc[(seasonal_df['Dataset ID']=='Dataset#4')&((seasonal_df['DOY']>243)|(seasonal_df['DOY']==243)),'season']='post-peak season'\n",
    "seasonal_df.loc[(seasonal_df['Dataset ID']=='Dataset#4')&(seasonal_df['DOY']>151)&(seasonal_df['DOY']<243),'season']='peak growing season'\n",
    "\n",
    "seasonal_df.loc[(seasonal_df['Dataset ID']=='Dataset#8')&((seasonal_df['DOY']<175)|(seasonal_df['DOY']==175)),'season']='early growing season'\n",
    "seasonal_df.loc[(seasonal_df['Dataset ID']=='Dataset#8')&((seasonal_df['DOY']>243)|(seasonal_df['DOY']==243)),'season']='post-peak season'\n",
    "seasonal_df.loc[(seasonal_df['Dataset ID']=='Dataset#8')&(seasonal_df['DOY']>175)&(seasonal_df['DOY']<243),'season']='peak growing season'\n",
    "\n",
    "seasonal_df.reset_index(drop = True,inplace = True)\n",
    "seasonal_df['ID'] = np.arange(len(seasonal_df))\n",
    "seasonal_df.to_csv('../0_datasets/Ccar_dataset_temporal.csv', index = False)"
   ]
  },
  {
   "attachments": {},
   "cell_type": "markdown",
   "id": "f3d48d99",
   "metadata": {},
   "source": [
    "### EWT"
   ]
  },
  {
   "cell_type": "code",
   "execution_count": 81,
   "id": "946a8c5b",
   "metadata": {
    "ExecuteTime": {
     "end_time": "2024-04-12T02:20:30.668610Z",
     "start_time": "2024-04-12T02:20:30.304758Z"
    },
    "scrolled": true
   },
   "outputs": [
    {
     "name": "stdout",
     "output_type": "stream",
     "text": [
      "                               1066\n",
      "SVC HR-1024i                    721\n",
      "ASD FieldSpec 3                 630\n",
      "Lambda-19 Spectrophotometer     330\n",
      "PSR 3500+                       302\n",
      "ASD FieldSpec                   276\n",
      "SVC HR-1024tm                   256\n",
      "Name: Instruments, dtype: int64\n",
      "Site#6 104\n",
      "Site#13 102\n",
      "Site#70 256\n",
      "Site#82 184\n",
      "Deciduous broadleaf forests 467\n",
      "Grasslands 263\n",
      "Croplands 184\n"
     ]
    }
   ],
   "source": [
    "df = data[data[\"EWT\"]>0]\n",
    "print(df[\"Instruments\"].value_counts())\n",
    "df = df[df[\"Instruments\"].str.contains(\"SVC\")]\n",
    "\n",
    "### sites dataset extraction\n",
    "sample_size = 100\n",
    "var_start = True\n",
    "for site in df[\"Site ID\"].unique():\n",
    "    temp = df[df[\"Site ID\"] == site]\n",
    "    if len(temp)>sample_size:\n",
    "        print(site, len(temp))\n",
    "        df_sample = temp.sample(n=sample_size, replace=True)\n",
    "        if var_start:\n",
    "            df_final = df_sample\n",
    "            var_start = False\n",
    "        else:\n",
    "            df_final= pd.concat([df_final,df_sample],axis = 0)\n",
    "df_final['ID'] = np.arange(len(df_final))\n",
    "df_final.reset_index(drop = True,inplace = True)\n",
    "df_final.to_csv('../0_datasets/EWT_dataset_sites.csv', index = False)\n",
    "\n",
    "### PFT dataset extraction\n",
    "sample_size = 180\n",
    "var_start = True\n",
    "for pft in df[\"PFT\"].unique():\n",
    "    temp = df[df[\"PFT\"] == pft]\n",
    "    if len(temp)>sample_size:\n",
    "        print(pft,len(temp))\n",
    "        df_sample = temp.sample(n=sample_size, replace=True)\n",
    "        if var_start:\n",
    "            df_final = df_sample\n",
    "            var_start = False\n",
    "        else:\n",
    "            df_final= pd.concat([df_final,df_sample],axis = 0)\n",
    "df_final['ID'] = np.arange(len(df_final))\n",
    "df_final.reset_index(drop = True,inplace = True)\n",
    "df_final.to_csv('../0_datasets/EWT_dataset_PFT.csv', index = False)"
   ]
  },
  {
   "attachments": {},
   "cell_type": "markdown",
   "id": "44ab4bbf",
   "metadata": {},
   "source": [
    "### LMA"
   ]
  },
  {
   "cell_type": "code",
   "execution_count": 83,
   "id": "d7d97768",
   "metadata": {
    "ExecuteTime": {
     "end_time": "2024-04-12T02:22:30.258023Z",
     "start_time": "2024-04-12T02:22:27.882880Z"
    }
   },
   "outputs": [
    {
     "name": "stdout",
     "output_type": "stream",
     "text": [
      "ASD FieldSpec 3                16500\n",
      "PSR 3500+                      11030\n",
      "SVC HR-1024i                    8237\n",
      "PSR+                            3402\n",
      "ASD FieldSpec 4                 1743\n",
      "ASD FieldSpec Pro FR            1106\n",
      "                                1068\n",
      "SVC HR-2014i                     841\n",
      "SVC HR-1024i, PSR Plus           342\n",
      "Lambda-19 Spectrophotometer      330\n",
      "ASD FieldSpec                    276\n",
      "SVC HR-1024tm                    256\n",
      "ASD FieldSpec Pro                238\n",
      "SVC LC-RP-Pro                     48\n",
      "Name: Instruments, dtype: int64\n",
      "Site#3 403\n",
      "Site#33 9795\n",
      "Site#73 460\n",
      "Site#75 458\n",
      "Site#76 756\n",
      "Site#77 462\n",
      "Site#78 588\n",
      "Site#83 1117\n",
      "Site#84 735\n",
      "Site#5 807\n",
      "Site#93 494\n",
      "Site#104 630\n",
      "Deciduous broadleaf forests 11206\n",
      "Shrublands 491\n",
      "Vine 226\n",
      "Evergreen broadleaf forests 559\n",
      "Grasslands 5520\n",
      "Evergreen needleleaf forests 336\n",
      "Croplands 1117\n"
     ]
    }
   ],
   "source": [
    "df = data[data[\"LMA\"]>0]\n",
    "print(df[\"Instruments\"].value_counts())\n",
    "df = df[df[\"Instruments\"].str.contains(\"ASD\")]\n",
    "\n",
    "### sites dataset extraction\n",
    "sample_size = 400\n",
    "var_start = True\n",
    "for site in df[\"Site ID\"].unique():\n",
    "    temp = df[df[\"Site ID\"] == site]\n",
    "    if len(temp)>sample_size:\n",
    "        print(site, len(temp))\n",
    "        df_sample = temp.sample(n=sample_size, replace=True)\n",
    "        if var_start:\n",
    "            df_final = df_sample\n",
    "            var_start = False\n",
    "        else:\n",
    "            df_final= pd.concat([df_final,df_sample],axis = 0)\n",
    "df_final['ID'] = np.arange(len(df_final))\n",
    "df_final.reset_index(drop = True,inplace = True)\n",
    "df_final.to_csv('../0_datasets/LMA_dataset_sites.csv', index = False)\n",
    "\n",
    "### PFT dataset extraction\n",
    "sample_size = 200\n",
    "var_start = True\n",
    "for pft in df[\"PFT\"].unique():\n",
    "    temp = df[df[\"PFT\"] == pft]\n",
    "    if len(temp)>sample_size:\n",
    "        print(pft,len(temp))\n",
    "        df_sample = temp.sample(n=sample_size, replace=True)\n",
    "        if var_start:\n",
    "            df_final = df_sample\n",
    "            var_start = False\n",
    "        else:\n",
    "            df_final= pd.concat([df_final,df_sample],axis = 0)\n",
    "df_final['ID'] = np.arange(len(df_final))\n",
    "df_final.reset_index(drop = True,inplace = True)\n",
    "df_final.to_csv('../0_datasets/LMA_dataset_PFT.csv', index = False)\n",
    "\n",
    "### temporal dataset extraction\n",
    "seasonal_df = df[(df[\"Dataset ID\"]==\"Dataset#3\")|(df[\"Dataset ID\"]==\"Dataset#4\")|(df[\"Dataset ID\"]==\"Dataset#8\")]\n",
    "seasonal_df[\"Sample date\"] = seasonal_df[\"Sample date\"].astype(int).astype(str)\n",
    "seasonal_df[\"DOY\"] = [datetime.strptime(x, \"%Y%m%d\").timetuple().tm_yday for x in seasonal_df[\"Sample date\"].tolist()]\n",
    "\n",
    "seasonal_df.loc[(seasonal_df['Dataset ID']=='Dataset#3')&((seasonal_df['DOY']<165)|(seasonal_df['DOY']==165)),'season']='early growing season'\n",
    "seasonal_df.loc[(seasonal_df['Dataset ID']=='Dataset#3')&((seasonal_df['DOY']>240)|(seasonal_df['DOY']==240)),'season']='post-peak season'\n",
    "seasonal_df.loc[(seasonal_df['Dataset ID']=='Dataset#3')&(seasonal_df['DOY']>165)&(seasonal_df['DOY']<240),'season']='peak growing season'\n",
    "\n",
    "seasonal_df.loc[(seasonal_df['Dataset ID']=='Dataset#4')&((seasonal_df['DOY']<151)|(seasonal_df['DOY']==151)),'season']='early growing season'\n",
    "seasonal_df.loc[(seasonal_df['Dataset ID']=='Dataset#4')&((seasonal_df['DOY']>243)|(seasonal_df['DOY']==243)),'season']='post-peak season'\n",
    "seasonal_df.loc[(seasonal_df['Dataset ID']=='Dataset#4')&(seasonal_df['DOY']>151)&(seasonal_df['DOY']<243),'season']='peak growing season'\n",
    "\n",
    "seasonal_df.loc[(seasonal_df['Dataset ID']=='Dataset#8')&((seasonal_df['DOY']<175)|(seasonal_df['DOY']==175)),'season']='early growing season'\n",
    "seasonal_df.loc[(seasonal_df['Dataset ID']=='Dataset#8')&((seasonal_df['DOY']>243)|(seasonal_df['DOY']==243)),'season']='post-peak season'\n",
    "seasonal_df.loc[(seasonal_df['Dataset ID']=='Dataset#8')&(seasonal_df['DOY']>175)&(seasonal_df['DOY']<243),'season']='peak growing season'\n",
    "\n",
    "seasonal_df.reset_index(drop = True,inplace = True)\n",
    "seasonal_df['ID'] = np.arange(len(seasonal_df))\n",
    "seasonal_df.to_csv('../0_datasets/LMA_dataset_temporal.csv', index = False)"
   ]
  },
  {
   "cell_type": "code",
   "execution_count": null,
   "id": "2d3124aa",
   "metadata": {},
   "outputs": [],
   "source": []
  },
  {
   "cell_type": "code",
   "execution_count": 100,
   "id": "f831a572",
   "metadata": {
    "ExecuteTime": {
     "end_time": "2024-04-12T02:43:58.050383Z",
     "start_time": "2024-04-12T02:43:57.067713Z"
    }
   },
   "outputs": [
    {
     "name": "stdout",
     "output_type": "stream",
     "text": [
      "Chla+b 1600 200 [(47.49, -0.53), (41.36, -70.58), (42.54, -72.17), (45.86, -96.52), (43.08, -89.42), (45.4, -93.2), (52.22, 0.05), (49.01, 8.42)]\n",
      "Chla+b 3000 Deciduous broadleaf forests    1000\n",
      "Grasslands                     1000\n",
      "Croplands                      1000\n",
      "Name: PFT, dtype: int64\n",
      "Chla+b 608 peak growing season     278\n",
      "post-peak season        259\n",
      "early growing season     71\n",
      "Name: season, dtype: int64\n",
      "--------------------------------------------------------------\n",
      "Ccar 1000 200 [(47.49, -0.53), (41.36, -70.58), (42.54, -72.17), (43.08, -89.42), (49.01, 8.42)]\n",
      "Ccar 2100 Deciduous broadleaf forests    700\n",
      "Grasslands                     700\n",
      "Croplands                      700\n",
      "Name: PFT, dtype: int64\n",
      "Ccar 634 post-peak season        285\n",
      "peak growing season     278\n",
      "early growing season     71\n",
      "Name: season, dtype: int64\n",
      "--------------------------------------------------------------\n",
      "EWT 400 100 [(45.54, -73.34), (45.63, -73.47), (51.23, 3.04), (40.86, -72.87)]\n",
      "EWT 540 Deciduous broadleaf forests    180\n",
      "Grasslands                     180\n",
      "Croplands                      180\n",
      "Name: PFT, dtype: int64\n",
      "--------------------------------------------------------------\n",
      "LMA 4800 400 [(41.36, -70.58), (43.07, -89.44), (38.89, -78.17), (46.21, -89.48), (39.19, -96.56), (36.03, -84.23), (33.15, -87.55), (43.08, -89.42), (43.08, -89.42), (45.4, -93.2), (42.71, 141.57), (49.01, 8.42)]\n",
      "LMA 1400 Deciduous broadleaf forests     200\n",
      "Shrublands                      200\n",
      "Vine                            200\n",
      "Evergreen broadleaf forests     200\n",
      "Grasslands                      200\n",
      "Evergreen needleleaf forests    200\n",
      "Croplands                       200\n",
      "Name: PFT, dtype: int64\n",
      "LMA 626 post-peak season        303\n",
      "peak growing season     278\n",
      "early growing season     45\n",
      "Name: season, dtype: int64\n",
      "--------------------------------------------------------------\n"
     ]
    }
   ],
   "source": [
    "tr_name = [\"Chla+b\", \"Ccar\", \"EWT\", \"LMA\"]\n",
    "for tr in tr_name:\n",
    "    df1 = pd.read_csv(f\"../0_datasets/{tr}_dataset_sites.csv\")\n",
    "    locations = []\n",
    "    for site in df1[\"Site ID\"].unique():\n",
    "        temp = df1[df1[\"Site ID\"] == site]\n",
    "        coordinate = (round(temp[\"Latitude\"].mean(),2),round(temp[\"Longitude\"].mean(),2))\n",
    "        locations.append(coordinate)\n",
    "    print(tr,len(df1),len(temp),locations)\n",
    "    df2 = pd.read_csv(f\"../0_datasets/{tr}_dataset_PFT.csv\")\n",
    "    print(tr, len(df2), df2[\"PFT\"].value_counts())\n",
    "    if tr!=\"EWT\":\n",
    "        df3 = pd.read_csv(f\"../0_datasets/{tr}_dataset_temporal.csv\")\n",
    "        print(tr,len(df3),df3[\"season\"].value_counts())\n",
    "    print(\"--------------------------------------------------------------\")"
   ]
  },
  {
   "cell_type": "code",
   "execution_count": null,
   "id": "35f2618b",
   "metadata": {},
   "outputs": [],
   "source": []
  }
 ],
 "metadata": {
  "kernelspec": {
   "display_name": "Python 3 (ipykernel)",
   "language": "python",
   "name": "python3"
  },
  "language_info": {
   "codemirror_mode": {
    "name": "ipython",
    "version": 3
   },
   "file_extension": ".py",
   "mimetype": "text/x-python",
   "name": "python",
   "nbconvert_exporter": "python",
   "pygments_lexer": "ipython3",
   "version": "3.7.13"
  },
  "toc": {
   "base_numbering": 1,
   "nav_menu": {},
   "number_sections": true,
   "sideBar": true,
   "skip_h1_title": false,
   "title_cell": "Table of Contents",
   "title_sidebar": "Contents",
   "toc_cell": false,
   "toc_position": {},
   "toc_section_display": true,
   "toc_window_display": true
  }
 },
 "nbformat": 4,
 "nbformat_minor": 5
}
